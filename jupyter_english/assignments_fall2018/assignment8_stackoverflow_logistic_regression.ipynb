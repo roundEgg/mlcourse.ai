{
 "cells": [
  {
   "cell_type": "markdown",
   "metadata": {},
   "source": [
    "<center>\n",
    "<img src=\"../../img/ods_stickers.jpg\" />\n",
    "    \n",
    "## [mlcourse.ai](https://mlcourse.ai) – Open Machine Learning Course \n",
    "Authors: [Pavel Nesterov](http://pavelnesterov.info/) (@mephistopheies), [Yury Kashnitskiy](https://yorko.github.io) (@yorko), and [Daniel Potapov](https://www.linkedin.com/in/daniel-potapov/) (@sharthZ23). Edited by [Anastasia Manokhina](https://www.linkedin.com/in/anastasiamanokhina/) (@manokhina). This material is subject to the terms and conditions of the [Creative Commons CC BY-NC-SA 4.0](https://creativecommons.org/licenses/by-nc-sa/4.0/) license. Free use is permitted for any non-commercial purpose."
   ]
  },
  {
   "cell_type": "markdown",
   "metadata": {},
   "source": [
    "# <center> Assignment #8. Fall 2018\n",
    "## <center> StackOverflow questions tagging with logistic regression\n",
    "\n",
    "**You need to derive formulas where it's asked (yes, with pen and paper), fill in the code in the cells and select answers in the [web form](https://docs.google.com/forms/d/1FsawLzl_i3nw-ahECsJAJkd0SxFsmWDS5sS2hr6RbKY).**\n",
    "\n",
    "## 0. Problem description\n",
    "\n",
    "In this assignment, we will code a model for predicting tags based on a multilabel logistic regression. Unlike the usual setting of a multiclass problem, in this case one example can belong to several classes. We will implement an online version of the multilabel classification algorithm.\n",
    "\n",
    "We will use a small sample of 70k questions extracted from StackOverflow (about 23 MB if zipped, download from [here](https://drive.google.com/file/d/1djuygR3cTXb4go_KMWSOw94WlFKb2NT5/view?usp=sharing)).\n",
    "\n",
    "Actually, such implementations are used in real life (though not implemented in Python). For example, in online [Click-Through Rate](https://en.wikipedia.org/wiki/Click-through_rate) prediction models, the user is shown a banner, then, depending on the presence of a click, the model parameters are updated. In real applications, the amount of model parameters of can reach hundreds of millions, while one user usually has only a hundred or a thousand non-zero parameters out of this hundred millions, therefore it is not effective to vectorize such a model. Usually all user data is stored in huge clusters in in-memory databases, and user processing is distributed.\n",
    "\n",
    "> Data Science is the math for your business \n",
    "\n",
    "To perfectly grasp this folk wisdom, we'll dive into the math of multiclass & multilabel logistic regression."
   ]
  },
  {
   "cell_type": "markdown",
   "metadata": {},
   "source": [
    "## 1. Multiclass & multilabel logistic regression\n",
    "\n",
    "### 1.1. Softmax classifier (multiclass logistic regression)\n",
    "\n",
    "Let's see how logistic regression is derived for two classes $ \\left\\{0, 1\\right\\}$: the probability that an instance belongs to class $1$ is derived from the Bayes theorem:\n",
    "\n",
    "$$\\large \\begin{array}{rcl}\n",
    "p\\left(c = 1 \\mid \\vec{x}\\right) &=& \\dfrac{p\\left(\\vec{x} \\mid c = 1\\right)p\\left(c = 1\\right)}{p\\left(\\vec{x}\\right)} \\\\\n",
    "&=& \\dfrac{p\\left(\\vec{x} \\mid c = 1\\right)p\\left(c = 1\\right)}{p\\left(\\vec{x} \\mid c = 1\\right)p\\left(c = 1\\right) + p\\left(\\vec{x} \\mid c = 0\\right)p\\left(c = 0\\right)} \\\\\n",
    "&=& \\dfrac{1}{1 + e^{-a}} = \\sigma\\left(a\\right)\n",
    "\\end{array}$$\n",
    "where:\n",
    "- $\\vec{x}$ – is a feature vector\n",
    "- $\\sigma$ – stands for the sigmoid function of a scalar argument\n",
    "- $a = \\log \\frac{p\\left(\\vec{x} \\mid c = 1\\right)p\\left(c = 1\\right)}{p\\left(\\vec{x} \\mid c = 0\\right)p\\left(c = 0\\right)} = \\sum_{i=0}^{d} w_i x_i$ – this relation is modeled by a linear function of features and model parameters\n",
    "\n",
    "This expression can easily be generalized to a set of $ K $ classes, only the denominator in the Bayes formula changes. Let us write down the probability that an instance belongs to class $ k $:\n",
    "$$\\large \\begin{array}{rcl}\n",
    "p\\left(c = k \\mid \\vec{x}\\right) &=& \\dfrac{p\\left(\\vec{x} \\mid c = k\\right)p\\left(c = k\\right)}{\\sum_{i=1}^K p\\left(\\vec{x} \\mid c = i\\right)p\\left(c = i\\right)} = \\dfrac{e^{z_k}}{\\sum_{i=1}^{K}e^{z_i}} = \\sigma_k\\left(\\vec{z}\\right)\n",
    "\\end{array}$$\n",
    "where\n",
    "- $\\sigma_k$ – stands for a softmax function of a vector argument\n",
    "- $z_k = \\log p\\left(\\vec{x} \\mid c = k\\right)p\\left(c = k\\right) = \\sum_{i=0}^{d} w_{ki} x_i$ – this relation is modeled by a linear function of features and model parameters for the class $k$"
   ]
  },
  {
   "cell_type": "markdown",
   "metadata": {},
   "source": [
    "To model the full likelihood of **one example**  (look, it's not the same as likelihood of the whole training set), we use the [categorical distribution](https://en.wikipedia.org/wiki/Categorical_distribution), or, to be more precise, its logarithm (for convenience):\n",
    "\n",
    "$$\\Large \\mathcal{L} = \\log p\\left({\\vec{x}}\\right) = \\log \\prod_{i=1}^K \\sigma_i\\left(\\vec{z}\\right)^{y_i} = \\sum_{i=1}^K y_i \\log \\sigma_i\\left(\\vec{z}\\right), $$\n",
    "\n",
    "where \n",
    "\n",
    "- $K$ is the number of classes\n",
    "- $y_i$ is either 0 or 1, depending on the true class label of the example $\\vec{x}$\n",
    "\n",
    "It turns out to be a famous [cross entropy](https://en.wikipedia.org/wiki/Cross_entropy) function (if multiplied by $-1$). Likelihood needs to be maximized, and, accordingly, cross entropy should be minimized. By differentiating with respect to the parameters of the model, we will obtain the rules for updating the weights for gradient descent, **do this derivation on your own**, you will need to understand this for further fulfillment of the task:\n",
    "\n",
    "$$\\large \\begin{array}{rcl}\n",
    "\\frac{\\partial \\mathcal{L}}{\\partial w_{km}} &=& x_m \\left(y_k - \\sigma_k\\left(\\vec{z}\\right)\\right)\n",
    "\\end{array}$$\n",
    "\n",
    "Softmax classifier is very well [explained](http://cs231n.github.io/linear-classify/) in Stanford's course cs231n \"Convolutional Neural Networks for Visual Recognition\"."
   ]
  },
  {
   "cell_type": "markdown",
   "metadata": {},
   "source": [
    "### 1.2. Multilabel logistic regression\n",
    "\n",
    "It turns out that the softmax classifier tends to predict a high probability for some class and low probabilities for all other classes. That's due to an exponent in the formula of softmax. Also, in the previous formulation, it turns out that the vector $\\left(\\sigma_1, \\sigma_2, \\ldots, \\sigma_K\\right)$ forms a discrete probability distribution, i.e. $\\sum_{i=1}^K \\sigma_i = 1$. But in our problem statement each example can have several tags or can simultaneously belong to several classes. To take it into account we will slightly change the model:\n",
    "- We assume that all tags are independent of each other, i.e. each outcome is a logistic regression on two classes (either there is a tag or not), then the probability that an example has a tag will be written as following (each tag/class has its own set of parameters as in the case of a softmax classifier):\n",
    "$$\\large p\\left(\\text{tag}_k \\mid \\vec{x}\\right) = \\sigma\\left(z_k\\right) = \\sigma\\left(\\sum_{i=0}^d w_{ki} x_i \\right)$$\n",
    "- The presence of each tag will be modeled using <a href=\"https://en.wikipedia.org/wiki/Bernoulli_distribution\">Bernoulli distribution</a>\n",
    "\n",
    "Your first task is to write a simplified expression for the negative log-likelihood (NLL) of one training example. As a rule, many optimization algorithms have an interface for minimizing the function, and we follow the same tradition and multiply the resulting expression for log-likelihood by $-1$ to get NLL $-\\mathcal{L}$. In the second part,  we derive formulas to minimize the resulting expression."
   ]
  },
  {
   "cell_type": "markdown",
   "metadata": {},
   "source": [
    "**<font color=\"red\">Question 1:</font> What's the correct formula for negative log-likelihood of one training example?**\n",
    "\n",
    "*For discussions, please stick to [ODS Slack](https://opendatascience.slack.com/), channel #mlcourse_ai, pinned thread __#a8_q1__*\n",
    "\n",
    "**<font color=\"red\">Answer options:</font>**\n",
    "1. $\\large -\\mathcal{L} = -\\sum_{i=1}^d y_i \\log \\sigma\\left(z_i\\right) + \\left(1 - y_i\\right) \\log \\left(1 - \\sigma\\left(z_i\\right)\\right)$\n",
    "\n",
    "2. $\\large -\\mathcal{L} = -\\sum_{i=1}^d z_i \\log \\sigma\\left(y_i\\right) + \\left(1 - z_i\\right) \\log \\left(1 - \\sigma\\left(y_i\\right)\\right)$\n",
    "\n",
    "3. $\\large -\\mathcal{L} = -\\sum_{i=1}^K z_i \\log \\sigma\\left(y_i\\right) + \\left(1 - z_i\\right) \\log \\left(1 - \\sigma\\left(y_i\\right)\\right)$\n",
    "\n",
    "4. $\\large -\\mathcal{L} = -\\sum_{i=1}^K y_i \\log \\sigma\\left(z_i\\right) + \\left(1 - y_i\\right) \\log \\left(1 - \\sigma\\left(z_i\\right)\\right)$"
   ]
  },
  {
   "cell_type": "markdown",
   "metadata": {},
   "source": [
    "## 2. Deriving the formula for weight updates\n",
    "\n",
    "In the second task, you need to derive the formula for the partial derivative of $-\\mathcal{L}$ w.r.t weights."
   ]
  },
  {
   "cell_type": "markdown",
   "metadata": {
    "collapsed": true
   },
   "source": [
    "**<font color=\"red\">Question 2:</font> What's the correct formula for the derivative of negative log-likelihood w.r.t. to weights?**\n",
    "\n",
    "*For discussions, please stick to [ODS Slack](https://opendatascience.slack.com/), channel #mlcourse_ai, pinned thread __#a8_q2__*\n",
    "\n",
    "**<font color=\"red\">Answer options:</font>**\n",
    "1. $\\large -\\frac{\\partial \\mathcal{L}}{\\partial w_{km}} = -x_m \\left(y_k - \\sigma\\left(z_k\\right)\\right)$\n",
    "2. $\\large -\\frac{\\partial \\mathcal{L}}{\\partial w_{km}} = -x_m \\left(\\sigma\\left(z_k\\right) - y_k\\right)$\n",
    "3. $\\large -\\frac{\\partial \\mathcal{L}}{\\partial w_{km}} = \\left(y_k - \\sigma\\left(z_k\\right)x_m\\right)$\n",
    "4. $\\large -\\frac{\\partial \\mathcal{L}}{\\partial w_{km}} = \\left(\\sigma\\left(z_k\\right)x_m - y_k\\right)$"
   ]
  },
  {
   "cell_type": "markdown",
   "metadata": {},
   "source": [
    "## 3. Basic model implementation\n",
    "First, let's check the configuration"
   ]
  },
  {
   "cell_type": "code",
   "execution_count": 1,
   "metadata": {
    "ExecuteTime": {
     "end_time": "2018-11-12T21:14:38.457951Z",
     "start_time": "2018-11-12T21:14:38.450953Z"
    }
   },
   "outputs": [],
   "source": [
    "#!pip install watermark\n",
    "%load_ext watermark"
   ]
  },
  {
   "cell_type": "code",
   "execution_count": 2,
   "metadata": {
    "ExecuteTime": {
     "end_time": "2018-11-12T21:14:39.327913Z",
     "start_time": "2018-11-12T21:14:38.634925Z"
    }
   },
   "outputs": [
    {
     "name": "stdout",
     "output_type": "stream",
     "text": [
      "CPython 3.6.6\n",
      "IPython 6.5.0\n",
      "\n",
      "numpy 1.15.1\n",
      "scipy 1.1.0\n",
      "pandas 0.23.4\n",
      "matplotlib 2.2.3\n",
      "sklearn 0.19.2\n",
      "\n",
      "compiler   : GCC 7.2.0\n",
      "system     : Linux\n",
      "release    : 3.16.0-73-generic\n",
      "machine    : x86_64\n",
      "processor  : x86_64\n",
      "CPU cores  : 40\n",
      "interpreter: 64bit\n",
      "Git hash   : 8e68fb21cd9029b74c12384ed9a0b3a3f0b543c1\n"
     ]
    }
   ],
   "source": [
    "%watermark -v -m -p numpy,scipy,pandas,matplotlib,sklearn -g"
   ]
  },
  {
   "cell_type": "markdown",
   "metadata": {},
   "source": [
    "**[Docker](https://github.com/Yorko/mlcourse.ai/tree/master/docker_files) and author's laptop configuration**:\n",
    "    \n",
    "CPython 3.5.2<br>\n",
    "IPython 7.0.1\n",
    "\n",
    "numpy 1.15.2<br>\n",
    "scipy 1.1.0<br>\n",
    "pandas 0.23.4<br>\n",
    "matplotlib 3.0.0<br>\n",
    "sklearn 0.20.0\n",
    "\n",
    "compiler   : GCC 5.4.0 20160609<br>\n",
    "system     : Linux<br>\n",
    "release    : 4.17.14-041714-generic<br>\n",
    "machine    : x86_64<br>\n",
    "processor  : x86_64<br>\n",
    "CPU cores  : 12<br>\n",
    "interpreter: 64bit<br>\n",
    "Git hash   : 379461ca2ad94f9ed214dfcc1122f00649852385"
   ]
  },
  {
   "cell_type": "code",
   "execution_count": 3,
   "metadata": {
    "ExecuteTime": {
     "end_time": "2018-11-12T21:14:40.368913Z",
     "start_time": "2018-11-12T21:14:39.970765Z"
    }
   },
   "outputs": [],
   "source": [
    "from collections import defaultdict\n",
    "from tqdm import tqdm_notebook\n",
    "import numpy as np\n",
    "import pandas as pd\n",
    "import matplotlib.pyplot as plt\n",
    "import seaborn as sns\n",
    "sns.set()\n",
    "%matplotlib inline\n",
    "from IPython.display import clear_output\n",
    "\n",
    "pd.set_option('display.float_format', lambda x: '{:g}'.format(x))\n",
    "np.set_printoptions(suppress=True)\n",
    "sns.set_style(\"dark\")\n",
    "plt.rcParams['figure.figsize'] = 16, 12"
   ]
  },
  {
   "cell_type": "markdown",
   "metadata": {},
   "source": [
    "Let's load and preprocess our [dataset](https://drive.google.com/file/d/1djuygR3cTXb4go_KMWSOw94WlFKb2NT5/view?usp=sharing). Change paths to data files if needed."
   ]
  },
  {
   "cell_type": "code",
   "execution_count": 4,
   "metadata": {
    "ExecuteTime": {
     "end_time": "2018-11-12T21:14:40.783902Z",
     "start_time": "2018-11-12T21:14:40.780892Z"
    }
   },
   "outputs": [],
   "source": [
    "df = pd.read_csv('../../data/stackoverflow_sample_70k.csv.zip')"
   ]
  },
  {
   "cell_type": "code",
   "execution_count": 5,
   "metadata": {},
   "outputs": [
    {
     "data": {
      "text/html": [
       "<div>\n",
       "<style scoped>\n",
       "    .dataframe tbody tr th:only-of-type {\n",
       "        vertical-align: middle;\n",
       "    }\n",
       "\n",
       "    .dataframe tbody tr th {\n",
       "        vertical-align: top;\n",
       "    }\n",
       "\n",
       "    .dataframe thead th {\n",
       "        text-align: right;\n",
       "    }\n",
       "</style>\n",
       "<table border=\"1\" class=\"dataframe\">\n",
       "  <thead>\n",
       "    <tr style=\"text-align: right;\">\n",
       "      <th></th>\n",
       "      <th>question</th>\n",
       "      <th>tags</th>\n",
       "    </tr>\n",
       "  </thead>\n",
       "  <tbody>\n",
       "    <tr>\n",
       "      <th>0</th>\n",
       "      <td>i ve got some code in window scroll that check...</td>\n",
       "      <td>javascript jquery</td>\n",
       "    </tr>\n",
       "    <tr>\n",
       "      <th>1</th>\n",
       "      <td>i have a custom adapter for a list view it has...</td>\n",
       "      <td>android</td>\n",
       "    </tr>\n",
       "    <tr>\n",
       "      <th>2</th>\n",
       "      <td>in my form panel i added a checkbox setting st...</td>\n",
       "      <td>javascript</td>\n",
       "    </tr>\n",
       "    <tr>\n",
       "      <th>3</th>\n",
       "      <td>i have the two dates variables startwork and e...</td>\n",
       "      <td>c#</td>\n",
       "    </tr>\n",
       "    <tr>\n",
       "      <th>4</th>\n",
       "      <td>i might have been using the wrong search tags ...</td>\n",
       "      <td>android</td>\n",
       "    </tr>\n",
       "  </tbody>\n",
       "</table>\n",
       "</div>"
      ],
      "text/plain": [
       "                                            question               tags\n",
       "0  i ve got some code in window scroll that check...  javascript jquery\n",
       "1  i have a custom adapter for a list view it has...            android\n",
       "2  in my form panel i added a checkbox setting st...         javascript\n",
       "3  i have the two dates variables startwork and e...                 c#\n",
       "4  i might have been using the wrong search tags ...            android"
      ]
     },
     "execution_count": 5,
     "metadata": {},
     "output_type": "execute_result"
    }
   ],
   "source": [
    "df.head()"
   ]
  },
  {
   "cell_type": "markdown",
   "metadata": {},
   "source": [
    "Top tags on StackOverflow for these 70k questions are the following:"
   ]
  },
  {
   "cell_type": "code",
   "execution_count": 6,
   "metadata": {
    "ExecuteTime": {
     "end_time": "2018-11-12T21:14:41.089827Z",
     "start_time": "2018-11-12T21:14:41.083816Z"
    }
   },
   "outputs": [],
   "source": [
    "top_tags = ['python', 'ios', 'html', 'android', 'c++', 'jquery', 'java', 'php', 'c#', 'javascript']"
   ]
  },
  {
   "cell_type": "markdown",
   "metadata": {},
   "source": [
    "`question` and `tags` are strings, so we need to preprocess them. \n",
    "\n",
    "Preprocessing steps will be as follows: \n",
    "- convert to lowercase \n",
    "- strip whitespaces \n",
    "- split by whitespaces to form a list of words"
   ]
  },
  {
   "cell_type": "code",
   "execution_count": 7,
   "metadata": {
    "ExecuteTime": {
     "end_time": "2018-11-12T21:14:48.264230Z",
     "start_time": "2018-11-12T21:14:45.437883Z"
    },
    "code_folding": []
   },
   "outputs": [
    {
     "name": "stdout",
     "output_type": "stream",
     "text": [
      "CPU times: user 1.31 s, sys: 393 ms, total: 1.7 s\n",
      "Wall time: 1.7 s\n"
     ]
    }
   ],
   "source": [
    "%%time\n",
    "df['tags'] = df['tags'].str.lower()\\\n",
    "                       .str.strip()\\\n",
    "                       .str.split(' ')\n",
    "df['question'] = df['question'].str.lower()\\\n",
    "                               .str.strip()\\\n",
    "                               .str.split(' ')"
   ]
  },
  {
   "cell_type": "code",
   "execution_count": 8,
   "metadata": {
    "ExecuteTime": {
     "end_time": "2018-11-12T21:14:48.284225Z",
     "start_time": "2018-11-12T21:14:48.267218Z"
    }
   },
   "outputs": [
    {
     "data": {
      "text/html": [
       "<div>\n",
       "<style scoped>\n",
       "    .dataframe tbody tr th:only-of-type {\n",
       "        vertical-align: middle;\n",
       "    }\n",
       "\n",
       "    .dataframe tbody tr th {\n",
       "        vertical-align: top;\n",
       "    }\n",
       "\n",
       "    .dataframe thead th {\n",
       "        text-align: right;\n",
       "    }\n",
       "</style>\n",
       "<table border=\"1\" class=\"dataframe\">\n",
       "  <thead>\n",
       "    <tr style=\"text-align: right;\">\n",
       "      <th></th>\n",
       "      <th>question</th>\n",
       "      <th>tags</th>\n",
       "    </tr>\n",
       "  </thead>\n",
       "  <tbody>\n",
       "    <tr>\n",
       "      <th>0</th>\n",
       "      <td>[i, ve, got, some, code, in, window, scroll, t...</td>\n",
       "      <td>[javascript, jquery]</td>\n",
       "    </tr>\n",
       "    <tr>\n",
       "      <th>1</th>\n",
       "      <td>[i, have, a, custom, adapter, for, a, list, vi...</td>\n",
       "      <td>[android]</td>\n",
       "    </tr>\n",
       "    <tr>\n",
       "      <th>2</th>\n",
       "      <td>[in, my, form, panel, i, added, a, checkbox, s...</td>\n",
       "      <td>[javascript]</td>\n",
       "    </tr>\n",
       "    <tr>\n",
       "      <th>3</th>\n",
       "      <td>[i, have, the, two, dates, variables, startwor...</td>\n",
       "      <td>[c#]</td>\n",
       "    </tr>\n",
       "    <tr>\n",
       "      <th>4</th>\n",
       "      <td>[i, might, have, been, using, the, wrong, sear...</td>\n",
       "      <td>[android]</td>\n",
       "    </tr>\n",
       "  </tbody>\n",
       "</table>\n",
       "</div>"
      ],
      "text/plain": [
       "                                            question                  tags\n",
       "0  [i, ve, got, some, code, in, window, scroll, t...  [javascript, jquery]\n",
       "1  [i, have, a, custom, adapter, for, a, list, vi...             [android]\n",
       "2  [in, my, form, panel, i, added, a, checkbox, s...          [javascript]\n",
       "3  [i, have, the, two, dates, variables, startwor...                  [c#]\n",
       "4  [i, might, have, been, using, the, wrong, sear...             [android]"
      ]
     },
     "execution_count": 8,
     "metadata": {},
     "output_type": "execute_result"
    }
   ],
   "source": [
    "df.head()"
   ]
  },
  {
   "cell_type": "code",
   "execution_count": 9,
   "metadata": {
    "ExecuteTime": {
     "end_time": "2018-11-12T21:14:48.630133Z",
     "start_time": "2018-11-12T21:14:48.581133Z"
    }
   },
   "outputs": [
    {
     "name": "stdout",
     "output_type": "stream",
     "text": [
      "<class 'pandas.core.frame.DataFrame'>\n",
      "RangeIndex: 70000 entries, 0 to 69999\n",
      "Data columns (total 2 columns):\n",
      "question    70000 non-null object\n",
      "tags        70000 non-null object\n",
      "dtypes: object(2)\n",
      "memory usage: 128.2 MB\n"
     ]
    }
   ],
   "source": [
    "df.info(memory_usage='deep')"
   ]
  },
  {
   "cell_type": "markdown",
   "metadata": {},
   "source": [
    "You are given a template of the class `LogRegressor`, analyze it carefully paying attention to all comments. Then fill in the blanks, run the resulting model and answer the test question.\n",
    "\n",
    "As you might notice, when you update the weight of $ w_ {km} $, the value of the sign $ x_m $ is used, which is $ 0 $ if the word with the index $ m $ is not in the sentence, and is greater than zero if there is such a word. Accordingly, when calculating a linear combination $ z $ of model weights and sample features, only non-zero attributes of the object should be considered.\n",
    "\n",
    "Hint:\n",
    "- If you implement the calculation of the sigmoid in the same way as in the formula, then for a large negative value $ z $ the calculation of $ e ^ {- z} $ turns into a very large number that will go beyond permissible limits\n",
    "- at the same time $ e ^ {- z} $ from a large positive $z$ will be zero\n",
    "- use properties of the sigmoid function $\\sigma$  to fix this."
   ]
  },
  {
   "cell_type": "code",
   "execution_count": 10,
   "metadata": {},
   "outputs": [
    {
     "data": {
      "text/plain": [
       "6"
      ]
     },
     "execution_count": 10,
     "metadata": {},
     "output_type": "execute_result"
    }
   ],
   "source": [
    "sum([1,2,3])"
   ]
  },
  {
   "cell_type": "code",
   "execution_count": 35,
   "metadata": {
    "ExecuteTime": {
     "end_time": "2018-11-12T21:14:49.354033Z",
     "start_time": "2018-11-12T21:14:49.324043Z"
    },
    "code_folding": []
   },
   "outputs": [],
   "source": [
    "class LogRegressor():\n",
    "    def __init__(self, tags):  \n",
    "        \"\"\"LogRegressor class constructor\n",
    "    \n",
    "        Parameters\n",
    "        ----------\n",
    "        tags: list of string\n",
    "        \"\"\"\n",
    "        self.__version__ = 'v0.3'\n",
    "        # `set` will drop duplicated tags\n",
    "        self._tags = set(tags)\n",
    "        \n",
    "        # A dictionary that contains the mapping of sentence words and tags into indexes (to save memory)\n",
    "        # example: self._vocab ['exception'] = 17 means that the word \"exception\" has an index of 17\n",
    "        self._vocab = {} #defaultdict(lambda: len(self._vocab))\n",
    "        \n",
    "        # parameters of the model: weights\n",
    "        # for each class / tag we need to store its own vector of weights\n",
    "        # By default, all weights will be zero\n",
    "        # we do not know in advance how many scales we will need\n",
    "        # so for each class we create a dictionary of a variable size with a default value of 0\n",
    "        # example: self._w['java'][self._vocab['exception']] contains weight for word exception and tag java\n",
    "        self._w = dict([(t, defaultdict(int)) for t in tags])\n",
    "        \n",
    "        # parameters of the model: bias term or w_0 weight\n",
    "        self._b = dict([(t, 0) for t in tags])\n",
    "    \n",
    "    def update_vocab(self, words_list):\n",
    "        \"\"\"Update vocab with new words from words_list\n",
    "        \n",
    "        Parameters\n",
    "        ----------\n",
    "        words_list: list of strings\n",
    "        \"\"\"\n",
    "        for word in words_list:\n",
    "            # every new word will get index=len(self._vocab)\n",
    "            # so at the end of training all words will numbered from 0 to len(self._vocab)\n",
    "            if word not in self._vocab:\n",
    "                self._vocab[word] = len(self._vocab)\n",
    "    \n",
    "    def generate_vocab(self, df, column_name):\n",
    "        \"\"\"Build words vocab from dataframe column of lists\n",
    "        \n",
    "        Parameters\n",
    "        ----------\n",
    "        df: pandas.Dataframe\n",
    "        \n",
    "        column_name: string\n",
    "        \"\"\"\n",
    "        if column_name not in df.columns:\n",
    "            raise ValueError(\"DataFrame doesnt have '{}' column!\")\n",
    "        df[column_name].map(self.update_vocab)\n",
    "\n",
    "    def fit_sample(self, sample):\n",
    "        \"\"\"Fit single sample\n",
    "\n",
    "        Parameters\n",
    "        ----------\n",
    "        sample: pandas.Series\n",
    "            dict-like object which contains question and his tags\n",
    "\n",
    "        Returns\n",
    "        -------\n",
    "        pandas.Series object with metrics for sample\n",
    "        \"\"\"\n",
    "        # sample.name is value from df.index aka row number\n",
    "        sample_id = sample.name\n",
    "        question = sample['question']\n",
    "        tags = set(sample['tags'])\n",
    "        \n",
    "        sample_loss = 0\n",
    "        \n",
    "        # derive the gradients for each tag\n",
    "        for tag in self._tags:\n",
    "            # target is 1 if current sample has current tag \n",
    "            y = int(tag in tags)\n",
    "            # calculate linear combination of weights and features\n",
    "            # HERE'S YOUR CODE\n",
    "            # z = ...\n",
    "            z = 0#sum([self._w[tag][self._vocab[word]] for word in question if word in self._vocab])\n",
    "            \n",
    "            for word in question:\n",
    "                is_word_unknown = word not in self._vocab\n",
    "                # in the test mode, ignore the words that are not in the vocabulary\n",
    "                if sample_id >= self.top_n_train and is_word_unknown:\n",
    "                    continue\n",
    "                # HERE'S YOUR CODE\n",
    "                # z += ...\n",
    "                z += self._w[tag][self._vocab[word]]\n",
    "                \n",
    "            # calculate the probability of tag \n",
    "            # HERE'S YOUR CODE\n",
    "            # sigma = ...\n",
    "            sigma = 1 / (1+np.exp(-z))\n",
    "\n",
    "            # update the value of the loss function for the current example\n",
    "            # HERE'S YOUR CODE\n",
    "            # sample_loss += ...\n",
    "            sample_loss += -(y * np.log(max(sigma, self.tolerance)) + (1-y)* np.log(1-min(sigma, 1-self.tolerance)))\n",
    "\n",
    "            # If still in the training part, update the parameters\n",
    "            if sample_id < self.top_n_train:\n",
    "                # compute the log-likelihood derivative by weight\n",
    "                # HERE'S YOUR CODE\n",
    "                # dLdw = ...\n",
    "                dLdw = (y - sigma)\n",
    "                # make gradient descent step\n",
    "                # We minimize negative log-likelihood (second minus sign)\n",
    "                # so we go to the opposite direction of the gradient to minimize it (the first minus sign)\n",
    "                delta = self.learning_rate * dLdw\n",
    "                for word in question:                        \n",
    "                    self._w[tag][self._vocab[word]] -= -delta\n",
    "                self._b[tag] -= -delta\n",
    "        if sample_id % self.show_period == 0:\n",
    "            n = sample_id + self.show_period\n",
    "            clear_output(wait=True)\n",
    "            print('LogRegressor {} | {} ({:.2f}%) samples fitted.'.format(\n",
    "                self.__version__,\n",
    "                n, \n",
    "                100 * n / self.total_len))\n",
    "        return pd.Series({'loss': sample_loss})\n",
    "    \n",
    "    def fit_dataframe(self, \n",
    "                      df,\n",
    "                      top_n_train=60000, \n",
    "                      learning_rate=0.1,\n",
    "                      tolerance=1e-16):\n",
    "        \"\"\"One run through dataframe\n",
    "\n",
    "        Parameters\n",
    "        ----------\n",
    "        df : pandas.DataFrame\n",
    "            pandas DataFrame with question and tags data\n",
    "\n",
    "        top_n_train : int\n",
    "            first top_n_train samples will be used for training, the rest are for the test\n",
    "            default=60000\n",
    "\n",
    "        learning_rate : float \n",
    "            gradient descent training speed\n",
    "            default=0.1\n",
    "\n",
    "        tolerance : float \n",
    "            used for bounding the values of logarithm argument\n",
    "            default=1e-16\n",
    "\n",
    "        Returns\n",
    "        -------\n",
    "        pandas.DataFrame with metrics for each sample\n",
    "        \"\"\"\n",
    "        self.total_len = df.shape[0]\n",
    "        self.top_n_train = top_n_train\n",
    "        self.learning_rate = learning_rate\n",
    "        self.tolerance = tolerance\n",
    "        \n",
    "        if self.top_n_train > self.total_len:\n",
    "            print(\"Warning! 'top_n_train' more than dataframe rows count!\\n\"\n",
    "                  \"Set default 'top_n_train'=60000\")\n",
    "            self.top_n_train = 60000\n",
    "        \n",
    "        # generating self._vocab\n",
    "        self.generate_vocab(df, column_name='question')\n",
    "        # Show progress every self.show_period sample, 1% by default\n",
    "        self.show_period = self.total_len // 100\n",
    "        # apply self.fit_sample to each row (sample) of dataframe\n",
    "        self.metrics = df.apply(self.fit_sample, axis=1)\n",
    "        return self.metrics"
   ]
  },
  {
   "cell_type": "code",
   "execution_count": 36,
   "metadata": {
    "ExecuteTime": {
     "end_time": "2018-11-12T21:17:11.916995Z",
     "start_time": "2018-11-12T21:14:49.651937Z"
    }
   },
   "outputs": [
    {
     "name": "stdout",
     "output_type": "stream",
     "text": [
      "LogRegressor v0.3 | 70000 (100.00%) samples fitted.\n",
      "CPU times: user 2min 1s, sys: 492 ms, total: 2min 2s\n",
      "Wall time: 2min 2s\n"
     ]
    }
   ],
   "source": [
    "%%time\n",
    "model = LogRegressor(tags=top_tags)\n",
    "# by default, we will train on first 60k samples, and test on last 10k\n",
    "metrics = model.fit_dataframe(df)"
   ]
  },
  {
   "cell_type": "code",
   "execution_count": 37,
   "metadata": {
    "ExecuteTime": {
     "end_time": "2018-11-12T21:17:11.925980Z",
     "start_time": "2018-11-12T21:17:11.918982Z"
    }
   },
   "outputs": [
    {
     "data": {
      "text/html": [
       "<div>\n",
       "<style scoped>\n",
       "    .dataframe tbody tr th:only-of-type {\n",
       "        vertical-align: middle;\n",
       "    }\n",
       "\n",
       "    .dataframe tbody tr th {\n",
       "        vertical-align: top;\n",
       "    }\n",
       "\n",
       "    .dataframe thead th {\n",
       "        text-align: right;\n",
       "    }\n",
       "</style>\n",
       "<table border=\"1\" class=\"dataframe\">\n",
       "  <thead>\n",
       "    <tr style=\"text-align: right;\">\n",
       "      <th></th>\n",
       "      <th>loss</th>\n",
       "    </tr>\n",
       "  </thead>\n",
       "  <tbody>\n",
       "    <tr>\n",
       "      <th>0</th>\n",
       "      <td>2.53708e-11</td>\n",
       "    </tr>\n",
       "    <tr>\n",
       "      <th>1</th>\n",
       "      <td>8.17772</td>\n",
       "    </tr>\n",
       "    <tr>\n",
       "      <th>2</th>\n",
       "      <td>5.79672</td>\n",
       "    </tr>\n",
       "    <tr>\n",
       "      <th>3</th>\n",
       "      <td>5.75889</td>\n",
       "    </tr>\n",
       "    <tr>\n",
       "      <th>4</th>\n",
       "      <td>1.68308</td>\n",
       "    </tr>\n",
       "  </tbody>\n",
       "</table>\n",
       "</div>"
      ],
      "text/plain": [
       "         loss\n",
       "0 2.53708e-11\n",
       "1     8.17772\n",
       "2     5.79672\n",
       "3     5.75889\n",
       "4     1.68308"
      ]
     },
     "execution_count": 37,
     "metadata": {},
     "output_type": "execute_result"
    }
   ],
   "source": [
    "metrics.head()"
   ]
  },
  {
   "cell_type": "markdown",
   "metadata": {},
   "source": [
    "Let's check if the value of negative logarithmic likelihood has actually decreased. Since we are using stochastic gradient descent, we should not expect a smooth fall of the loss function. We will use a moving average with a window of 10,000 examples to smooth the graph."
   ]
  },
  {
   "cell_type": "code",
   "execution_count": 38,
   "metadata": {
    "ExecuteTime": {
     "end_time": "2018-11-12T21:17:12.104994Z",
     "start_time": "2018-11-12T21:17:11.928979Z"
    }
   },
   "outputs": [
    {
     "data": {
      "image/png": "[encoded data removed]",
      "text/plain": [
       "<Figure size 432x288 with 1 Axes>"
      ]
     },
     "metadata": {
      "needs_background": "light"
     },
     "output_type": "display_data"
    }
   ],
   "source": [
    "plot = plt.plot(pd.Series(metrics['loss'][:-10000]).rolling(10000).mean())"
   ]
  },
  {
   "cell_type": "markdown",
   "metadata": {},
   "source": [
    "**Spolier** to save your time: if you get such a graph of the loss function, it's OK. \n",
    "\n",
    "<img src='../../img/assignment8_loss.png' width=40%>"
   ]
  },
  {
   "cell_type": "code",
   "execution_count": 39,
   "metadata": {
    "ExecuteTime": {
     "end_time": "2018-11-12T21:17:12.116004Z",
     "start_time": "2018-11-12T21:17:12.107994Z"
    }
   },
   "outputs": [
    {
     "name": "stdout",
     "output_type": "stream",
     "text": [
      "Mean of the loss function on the last 10k TRAIN samples: 21.18\n"
     ]
    }
   ],
   "source": [
    "last_10k_train_loss = np.mean(metrics['loss'][-20000:-10000]) \n",
    "print('Mean of the loss function on the last 10k TRAIN samples: {:.2f}'.format(last_10k_train_loss))"
   ]
  },
  {
   "cell_type": "markdown",
   "metadata": {},
   "source": [
    "**<font color=\"red\">Question 3:</font> What's the average value of the cost function for the last 10000 examples of the training set?**\n",
    "\n",
    "*For discussions, please stick to [ODS Slack](https://opendatascience.slack.com/), channel #mlcourse_ai, pinned thread __#a8_q3__*\n",
    "\n",
    "**<font color=\"red\">Answer options:</font>**\n",
    "1. 18.31\n",
    "2. 19.86\n",
    "3. 21.74\n",
    "4. 26.43"
   ]
  },
  {
   "cell_type": "markdown",
   "metadata": {
    "collapsed": true
   },
   "source": [
    "## 4. Model testing\n",
    "\n",
    "In the base model, the first 60k rows are used for training, and the remaining ones are used as a test set. As you can see, the value of negative log-likelihood is not very informative, although it allows you to compare different models. In the fourth task, you need to modify the base model so that the `fit_dataframe` method calculate the value of _accuracy_ on the test portion of the dataset for every sample.\n",
    "\n",
    "The accuracy is defined as following:\n",
    "- consider that the question has a tag if the predicted probability of the tag is greater than 0.9\n",
    "- the accuracy of one example is calculated as [Jaccard coefficient](https://en.wikipedia.org/wiki/Jaccard_index) between the set of real tags and tags predicted by the model\n",
    "  - for example, if the example has real tags ['html', 'jquery'], and according to the model they are ['ios', 'html', 'java'], then the Jaccard coefficient will be |['html', 'jquery'] $\\cap$ ['ios', 'html', 'java']| / |['html', 'jquery'] $\\cup$ ['ios', 'html', 'java']| = |['html']| / |['jquery', 'ios', 'html', 'java']| = 1/4\n",
    "- `fit_dataframe` method returns _pd.DataFrame_ with column _Jaccard_ \n",
    "- For answer you need to calculate **average (mean)** accuracy on _Jaccard_ column on the test set"
   ]
  },
  {
   "cell_type": "markdown",
   "metadata": {},
   "source": [
    "<font color=\"red\">Modified class:</font>"
   ]
  },
  {
   "cell_type": "code",
   "execution_count": 42,
   "metadata": {
    "ExecuteTime": {
     "end_time": "2018-11-12T21:17:12.135997Z",
     "start_time": "2018-11-12T21:17:12.117991Z"
    },
    "code_folding": []
   },
   "outputs": [],
   "source": [
    "class LogRegressor():\n",
    "    def __init__(self, tags): \n",
    "        self.__version__ = 'v0.4'\n",
    "        self._tags = set(tags)\n",
    "        self._vocab = {}\n",
    "        self._w = dict([(t, defaultdict(int)) for t in tags])\n",
    "        self._b = dict([(t, 0) for t in tags])\n",
    "    \n",
    "    def update_vocab(self, words_list):\n",
    "        for word in words_list:\n",
    "            if word not in self._vocab:\n",
    "                self._vocab[word] = len(self._vocab)\n",
    "    \n",
    "    def generate_vocab(self, df, column_name):\n",
    "        if column_name not in df.columns:\n",
    "            raise ValueError(\"DataFrame doesnt have '{}' column!\")\n",
    "        df[column_name].map(self.update_vocab)\n",
    "\n",
    "    def fit_sample(self, sample):\n",
    "        sample_id = sample.name\n",
    "        question = sample['question']\n",
    "        tags = set(sample['tags'])\n",
    "        sample_loss = 0\n",
    "        predicted_tags = None\n",
    "\n",
    "        for tag in self._tags:\n",
    "            y = int(tag in tags)\n",
    "            # HERE'S YOUR CODE\n",
    "            # z = ...\n",
    "            z=0\n",
    "\n",
    "            for word in question:\n",
    "                is_word_unknown = word not in self._vocab\n",
    "                if sample_id >= self.top_n_train and is_word_unknown:\n",
    "                    continue\n",
    "                # HERE'S YOUR CODE\n",
    "                # z += ...\n",
    "                z += self._w[tag][self._vocab[word]]\n",
    "\n",
    "            # HERE'S YOUR CODE\n",
    "            # sigma = ...\n",
    "            sigma = 1 / (1+np.exp(-z))\n",
    "            \n",
    "            # HERE'S YOUR CODE\n",
    "            # sample_loss += ...\n",
    "            sample_loss += -(y * np.log(max(sigma, self.tolerance)) + (1-y)* np.log(1-min(sigma, 1-self.tolerance)))\n",
    "\n",
    "            if sample_id < self.top_n_train:\n",
    "                # HERE'S YOUR CODE\n",
    "                # dLdw = ...\n",
    "                dLdw = (y - sigma)\n",
    "                delta = self.learning_rate*dLdw\n",
    "                for word in question:                        \n",
    "                    self._w[tag][self._vocab[word]] -= -delta\n",
    "                self._b[tag] -= -delta\n",
    "            else:\n",
    "                if predicted_tags is None:\n",
    "                    predicted_tags = []\n",
    "                # HERE'S YOUR CODE\n",
    "                # if sigma... :\n",
    "                #     predicted_tags...\n",
    "                if sigma > 0.9:\n",
    "                    predicted_tags.append(tag)\n",
    "\n",
    "        if sample_id % self.show_period == 0:\n",
    "            n = sample_id + self.show_period\n",
    "            clear_output(wait=True)\n",
    "            print('LogRegressor {} | {} ({:.2f}%) samples fitted.'.format(\n",
    "                self.__version__,\n",
    "                n, \n",
    "                100 * n / self.total_len))\n",
    "        if predicted_tags is not None:\n",
    "            # HERE'S YOUR CODE\n",
    "            # Jaccard = ...\n",
    "            predicted_tags = set(predicted_tags)\n",
    "            Jaccard = len(predicted_tags & tags) / len(predicted_tags | tags)\n",
    "            return pd.Series({'loss': sample_loss, 'Jaccard': Jaccard})\n",
    "        else:\n",
    "            return pd.Series({'loss': sample_loss, 'Jaccard': np.NaN})\n",
    "\n",
    "    \n",
    "    def fit_dataframe(self, \n",
    "                      df,\n",
    "                      top_n_train=60000, \n",
    "                      learning_rate=0.1,\n",
    "                      tolerance=1e-16,\n",
    "                      accuracy_level=0.9):\n",
    "        self.total_len = df.shape[0]\n",
    "        self.top_n_train = top_n_train\n",
    "        self.learning_rate = learning_rate\n",
    "        self.tolerance = tolerance\n",
    "        self.accuracy_level = accuracy_level\n",
    "        \n",
    "        if self.top_n_train > self.total_len:\n",
    "            print(\"Warning! 'top_n_train' more than dataframe rows count!\\n\"\n",
    "                  \"Set default 'top_n_train'=60000\")\n",
    "            self.top_n_train = 60000\n",
    "        \n",
    "        self.generate_vocab(df, column_name='question')\n",
    "        self.show_period = self.total_len // 100\n",
    "        self.metrics = df.apply(self.fit_sample, axis=1)\n",
    "        return self.metrics"
   ]
  },
  {
   "cell_type": "code",
   "execution_count": 43,
   "metadata": {
    "ExecuteTime": {
     "end_time": "2018-11-12T21:19:34.050653Z",
     "start_time": "2018-11-12T21:17:12.136994Z"
    }
   },
   "outputs": [
    {
     "name": "stdout",
     "output_type": "stream",
     "text": [
      "LogRegressor v0.4 | 70000 (100.00%) samples fitted.\n",
      "CPU times: user 2min 4s, sys: 644 ms, total: 2min 5s\n",
      "Wall time: 2min 5s\n"
     ]
    }
   ],
   "source": [
    "%%time\n",
    "model = LogRegressor(tags=top_tags)\n",
    "metrics = model.fit_dataframe(df)"
   ]
  },
  {
   "cell_type": "code",
   "execution_count": 44,
   "metadata": {
    "ExecuteTime": {
     "end_time": "2018-11-12T21:19:34.060546Z",
     "start_time": "2018-11-12T21:19:34.051636Z"
    }
   },
   "outputs": [
    {
     "data": {
      "text/html": [
       "<div>\n",
       "<style scoped>\n",
       "    .dataframe tbody tr th:only-of-type {\n",
       "        vertical-align: middle;\n",
       "    }\n",
       "\n",
       "    .dataframe tbody tr th {\n",
       "        vertical-align: top;\n",
       "    }\n",
       "\n",
       "    .dataframe thead th {\n",
       "        text-align: right;\n",
       "    }\n",
       "</style>\n",
       "<table border=\"1\" class=\"dataframe\">\n",
       "  <thead>\n",
       "    <tr style=\"text-align: right;\">\n",
       "      <th></th>\n",
       "      <th>loss</th>\n",
       "      <th>Jaccard</th>\n",
       "    </tr>\n",
       "  </thead>\n",
       "  <tbody>\n",
       "    <tr>\n",
       "      <th>0</th>\n",
       "      <td>2.53708e-11</td>\n",
       "      <td>nan</td>\n",
       "    </tr>\n",
       "    <tr>\n",
       "      <th>1</th>\n",
       "      <td>8.17772</td>\n",
       "      <td>nan</td>\n",
       "    </tr>\n",
       "    <tr>\n",
       "      <th>2</th>\n",
       "      <td>5.79672</td>\n",
       "      <td>nan</td>\n",
       "    </tr>\n",
       "    <tr>\n",
       "      <th>3</th>\n",
       "      <td>5.75889</td>\n",
       "      <td>nan</td>\n",
       "    </tr>\n",
       "    <tr>\n",
       "      <th>4</th>\n",
       "      <td>1.68308</td>\n",
       "      <td>nan</td>\n",
       "    </tr>\n",
       "  </tbody>\n",
       "</table>\n",
       "</div>"
      ],
      "text/plain": [
       "         loss  Jaccard\n",
       "0 2.53708e-11      nan\n",
       "1     8.17772      nan\n",
       "2     5.79672      nan\n",
       "3     5.75889      nan\n",
       "4     1.68308      nan"
      ]
     },
     "execution_count": 44,
     "metadata": {},
     "output_type": "execute_result"
    }
   ],
   "source": [
    "metrics.head()"
   ]
  },
  {
   "cell_type": "code",
   "execution_count": 45,
   "metadata": {
    "ExecuteTime": {
     "end_time": "2018-11-12T21:19:34.144200Z",
     "start_time": "2018-11-12T21:19:34.104196Z"
    }
   },
   "outputs": [
    {
     "data": {
      "text/html": [
       "<div>\n",
       "<style scoped>\n",
       "    .dataframe tbody tr th:only-of-type {\n",
       "        vertical-align: middle;\n",
       "    }\n",
       "\n",
       "    .dataframe tbody tr th {\n",
       "        vertical-align: top;\n",
       "    }\n",
       "\n",
       "    .dataframe thead th {\n",
       "        text-align: right;\n",
       "    }\n",
       "</style>\n",
       "<table border=\"1\" class=\"dataframe\">\n",
       "  <thead>\n",
       "    <tr style=\"text-align: right;\">\n",
       "      <th></th>\n",
       "      <th>loss</th>\n",
       "      <th>Jaccard</th>\n",
       "    </tr>\n",
       "  </thead>\n",
       "  <tbody>\n",
       "    <tr>\n",
       "      <th>69995</th>\n",
       "      <td>7.21695</td>\n",
       "      <td>0.5</td>\n",
       "    </tr>\n",
       "    <tr>\n",
       "      <th>69996</th>\n",
       "      <td>84.156</td>\n",
       "      <td>0</td>\n",
       "    </tr>\n",
       "    <tr>\n",
       "      <th>69997</th>\n",
       "      <td>36.8414</td>\n",
       "      <td>0</td>\n",
       "    </tr>\n",
       "    <tr>\n",
       "      <th>69998</th>\n",
       "      <td>36.8414</td>\n",
       "      <td>0</td>\n",
       "    </tr>\n",
       "    <tr>\n",
       "      <th>69999</th>\n",
       "      <td>15.73</td>\n",
       "      <td>0</td>\n",
       "    </tr>\n",
       "  </tbody>\n",
       "</table>\n",
       "</div>"
      ],
      "text/plain": [
       "         loss  Jaccard\n",
       "69995 7.21695      0.5\n",
       "69996  84.156        0\n",
       "69997 36.8414        0\n",
       "69998 36.8414        0\n",
       "69999   15.73        0"
      ]
     },
     "execution_count": 45,
     "metadata": {},
     "output_type": "execute_result"
    }
   ],
   "source": [
    "metrics.tail()"
   ]
  },
  {
   "cell_type": "code",
   "execution_count": 49,
   "metadata": {},
   "outputs": [
    {
     "data": {
      "text/plain": [
       "59999        nan\n",
       "60000          1\n",
       "60001          0\n",
       "60002        0.5\n",
       "60003   0.666667\n",
       "60004        0.5\n",
       "60005          1\n",
       "60006          1\n",
       "60007          1\n",
       "60008   0.333333\n",
       "60009          0\n",
       "60010        0.5\n",
       "60011   0.333333\n",
       "60012          0\n",
       "60013   0.333333\n",
       "60014          1\n",
       "60015          1\n",
       "60016          0\n",
       "60017          0\n",
       "60018          1\n",
       "60019          1\n",
       "60020          1\n",
       "60021          1\n",
       "60022          0\n",
       "60023          0\n",
       "60024   0.333333\n",
       "60025          1\n",
       "60026          1\n",
       "60027          1\n",
       "60028       0.25\n",
       "          ...   \n",
       "69970          1\n",
       "69971          0\n",
       "69972        0.5\n",
       "69973          1\n",
       "69974          1\n",
       "69975          1\n",
       "69976          1\n",
       "69977          0\n",
       "69978          1\n",
       "69979          1\n",
       "69980        0.5\n",
       "69981          1\n",
       "69982          1\n",
       "69983        0.5\n",
       "69984          1\n",
       "69985          0\n",
       "69986          1\n",
       "69987          1\n",
       "69988          1\n",
       "69989          1\n",
       "69990          1\n",
       "69991          1\n",
       "69992          1\n",
       "69993        0.5\n",
       "69994          1\n",
       "69995        0.5\n",
       "69996          0\n",
       "69997          0\n",
       "69998          0\n",
       "69999          0\n",
       "Name: Jaccard, Length: 10001, dtype: float64"
      ]
     },
     "execution_count": 49,
     "metadata": {},
     "output_type": "execute_result"
    }
   ],
   "source": [
    "metrics.iloc[59999:].Jaccard"
   ]
  },
  {
   "cell_type": "code",
   "execution_count": 50,
   "metadata": {
    "ExecuteTime": {
     "end_time": "2018-11-12T21:19:34.084203Z",
     "start_time": "2018-11-12T21:19:34.062535Z"
    }
   },
   "outputs": [
    {
     "name": "stdout",
     "output_type": "stream",
     "text": [
      "Mean Jaccard accuracy: 0.61\n"
     ]
    }
   ],
   "source": [
    "# HERE'S YOUR CODE\n",
    "# accuracy = ...\n",
    "accuracy = metrics.iloc[60000:].Jaccard.mean()\n",
    "print('Mean Jaccard accuracy: {:.2f}'.format(accuracy))"
   ]
  },
  {
   "cell_type": "markdown",
   "metadata": {
    "collapsed": true
   },
   "source": [
    "**<font color=\"red\">Question 4:</font> What mean Jaccard accuracy did you get for the test set?**\n",
    "\n",
    "*For discussions, please stick to [ODS Slack](https://opendatascience.slack.com/), channel #mlcourse_ai, pinned thread __#a8_q4__*\n",
    "\n",
    "**<font color=\"red\">Answer options:</font>**\n",
    "1. 0.31\n",
    "2. 0.41\n",
    "3. 0.51\n",
    "4. 0.61"
   ]
  },
  {
   "cell_type": "markdown",
   "metadata": {
    "collapsed": true
   },
   "source": [
    "## 5. $L_2$-regularization\n",
    "\n",
    "In the fifth task, you need to add $ L_2 $-regularization to the `LogRegressor` class. In the `fit_sample` method, the` l2_reg = 0.01` parameter with the default value should appear. Taking into account regularization, the new cost function takes the form:\n",
    "\n",
    "$$\\large \\begin{array}{rcl}\n",
    "L &=& -\\mathcal{L} + \\frac{\\lambda}{2} R\\left(W\\right) \\\\\n",
    "&=& -\\mathcal{L} + \\frac{\\lambda}{2} \\sum_{k=1}^K\\sum_{i=1}^d w_{ki}^2\n",
    "\\end{array}$$\n",
    "\n",
    "We have already derived the gradient of the first term of the sum, and for the second one it looks like:\n",
    "\n",
    "$$\\large \\begin{array}{rcl}\n",
    "\\frac{\\partial}{\\partial w_{ki}} \\frac{\\lambda}{2} R\\left(W\\right) &=& \\lambda w_{ki}\n",
    "\\end{array}$$\n",
    "\n",
    "If we make an explicit update of all weights on each example, then the process will be very slow, because we have to run through every word of the dictionary at each iteration. At the expense of the theoretical accuracy, we use a dirty trick: we will regularize only those words that are present in the current sentence. Do not forget that the bias term is not regularized. `sample_loss` should also remain unchanged."
   ]
  },
  {
   "cell_type": "markdown",
   "metadata": {},
   "source": [
    "<font color=\"red\">Modified class:</font>"
   ]
  },
  {
   "cell_type": "code",
   "execution_count": null,
   "metadata": {
    "ExecuteTime": {
     "end_time": "2018-11-12T21:19:34.102197Z",
     "start_time": "2018-11-12T21:19:34.085202Z"
    }
   },
   "outputs": [],
   "source": [
    "class LogRegressor():\n",
    "    def __init__(self, tags): \n",
    "        self.__version__ = 'v0.5'\n",
    "        self._tags = set(tags)\n",
    "        self._vocab = {}\n",
    "        self._w = dict([(t, defaultdict(int)) for t in tags])\n",
    "        self._b = dict([(t, 0) for t in tags])\n",
    "    \n",
    "    def update_vocab(self, words_list):\n",
    "        for word in words_list:\n",
    "            if word not in self._vocab:\n",
    "                self._vocab[word] = len(self._vocab)\n",
    "    \n",
    "    def generate_vocab(self, df, column_name):\n",
    "        if column_name not in df.columns:\n",
    "            raise ValueError(\"DataFrame doesnt have '{}' column!\")\n",
    "        df[column_name].map(self.update_vocab)\n",
    "\n",
    "    def fit_sample(self, sample):\n",
    "        sample_id = sample.name\n",
    "        question = sample['question']\n",
    "        tags = set(sample['tags'])\n",
    "        sample_loss = 0\n",
    "        predicted_tags = None\n",
    "\n",
    "        for tag in self._tags:\n",
    "            y = int(tag in tags)\n",
    "            # HERE'S YOUR CODE\n",
    "            # z = ...\n",
    "            z = 0\n",
    "\n",
    "            for word in question:\n",
    "                is_word_unknown = word not in self._vocab\n",
    "                if sample_id >= self.top_n_train and is_word_unknown:\n",
    "                    continue\n",
    "                # HERE'S YOUR CODE\n",
    "                # z += ...\n",
    "                z += self._w[tag][self._vocab[word]]\n",
    "            \n",
    "            # HERE'S YOUR CODE\n",
    "            # sigma = ...\n",
    "            sigma = 1 / (1+np.exp(-z))\n",
    "            \n",
    "            # HERE'S YOUR CODE\n",
    "            # sample_loss += ...\n",
    "            sample_loss += -(y * np.log(max(sigma, self.tolerance)) + (1-y)* np.log(1-min(sigma, 1-self.tolerance)))\n",
    "\n",
    "            if sample_id < self.top_n_train:\n",
    "                # HERE'S YOUR CODE\n",
    "                # dLdw = ...\n",
    "                dLdw = (y - sigma)\n",
    "                delta = self.learning_rate*dLdw\n",
    "                for word in question:\n",
    "                    # HERE'S YOUR CODE\n",
    "                    # self._w[tag][self._vocab[word]] -= (- delta...\n",
    "                self._b[tag] -= -delta\n",
    "            else:\n",
    "                if predicted_tags is None:\n",
    "                    predicted_tags = []\n",
    "                # HERE'S YOUR CODE\n",
    "                # if sigma... :\n",
    "                #     predicted_tags...\n",
    "\n",
    "        if sample_id % self.show_period == 0:\n",
    "            n = sample_id + self.show_period\n",
    "            clear_output(wait=True)\n",
    "            print('LogRegressor {} | {} ({:.2f}%) samples fitted.'.format(\n",
    "                self.__version__,\n",
    "                n, \n",
    "                100 * n / self.total_len))\n",
    "        if predicted_tags is not None:\n",
    "            # HERE'S YOUR CODE\n",
    "            # Jaccard = ...\n",
    "            return pd.Series({'loss': sample_loss, 'Jaccard': Jaccard})\n",
    "        else:\n",
    "            return pd.Series({'loss': sample_loss, 'Jaccard': np.NaN})\n",
    "\n",
    "    \n",
    "    def fit_dataframe(self, \n",
    "                      df,\n",
    "                      top_n_train=60000, \n",
    "                      learning_rate=0.1,\n",
    "                      tolerance=1e-16,\n",
    "                      accuracy_level=0.9,\n",
    "                      l2_reg=0.01):\n",
    "        self.total_len = df.shape[0]\n",
    "        self.top_n_train = top_n_train\n",
    "        self.learning_rate = learning_rate\n",
    "        self.tolerance = tolerance\n",
    "        self.accuracy_level = accuracy_level\n",
    "        self.l2_reg = l2_reg\n",
    "\n",
    "        if self.top_n_train > self.total_len:\n",
    "            print(\"Warning! 'top_n_train' more than dataframe rows count!\\n\"\n",
    "                  \"Set default 'top_n_train'=60000\")\n",
    "            self.top_n_train = 60000\n",
    "        \n",
    "        self.generate_vocab(df, column_name='question')\n",
    "        self.show_period = self.total_len // 100\n",
    "        self.metrics = df.apply(self.fit_sample, axis=1)\n",
    "        return self.metrics"
   ]
  },
  {
   "cell_type": "code",
   "execution_count": null,
   "metadata": {
    "ExecuteTime": {
     "end_time": "2018-11-12T21:22:47.257582Z",
     "start_time": "2018-11-12T21:19:34.149186Z"
    }
   },
   "outputs": [],
   "source": [
    "%%time\n",
    "model = LogRegressor(tags=top_tags)\n",
    "metrics = model.fit_dataframe(df)"
   ]
  },
  {
   "cell_type": "code",
   "execution_count": null,
   "metadata": {
    "ExecuteTime": {
     "end_time": "2018-11-12T21:22:47.407541Z",
     "start_time": "2018-11-12T21:22:47.259567Z"
    }
   },
   "outputs": [],
   "source": [
    "# HERE'S YOUR CODE\n",
    "# accuracy = ...\n",
    "print('{:.2f}'.format(accuracy))\n",
    "plot = plt.plot(pd.Series(metrics['loss'][:-10000]).rolling(10000).mean())"
   ]
  },
  {
   "cell_type": "markdown",
   "metadata": {},
   "source": [
    "**<font color=\"red\">Question 5:</font> What's the average value of Jaccard accuracy in case of $L_2$-regularization?**\n",
    "\n",
    "*For discussions, please stick to [ODS Slack](https://opendatascience.slack.com/), channel #mlcourse_ai, pinned thread __#a8_q5__*\n",
    "\n",
    "**<font color=\"red\">Answer options:</font>**\n",
    "1. 0.32\n",
    "2. 0.38\n",
    "3. 0.48\n",
    "4. 0.52 "
   ]
  },
  {
   "cell_type": "markdown",
   "metadata": {},
   "source": [
    "## 6. ElasticNet regularization, derivation\n",
    "In addition to $ L_2 $ regularization, $ L_1 $ regularization is often used.\n",
    "\n",
    "$$\\large \\begin{array}{rcl}\n",
    "L &=& -\\mathcal{L} + \\frac{\\lambda}{2} R\\left(W\\right) \\\\\n",
    "&=& -\\mathcal{L} + \\lambda \\sum_{k=1}^K\\sum_{i=1}^d \\left|w_{ki}\\right|\n",
    "\\end{array}$$\n",
    "\n",
    "If we linearly combine $ L_1 $ and $ L_2 $ regularization, then the resulting regularization type is called **ElasticNet**:\n",
    "\n",
    "$$\\large \\begin{array}{rcl}\n",
    "L &=& -\\mathcal{L} + \\lambda R\\left(W\\right) \\\\\n",
    "&=& -\\mathcal{L} + \\lambda \\left(\\gamma \\sum_{k=1}^K\\sum_{i=1}^d w_{ki}^2 + \\left(1 - \\gamma\\right) \\sum_{k=1}^K\\sum_{i=1}^d \\left|w_{ki}\\right| \\right)\n",
    "\\end{array}$$\n",
    "- where $\\gamma \\in \\left[0, 1\\right]$\n",
    "\n",
    "**<font color=\"red\">Question 6:</font> What's the correct formula for the gradient of the ElasticNet regularization term?**\n",
    "\n",
    "*For discussions, please stick to [ODS Slack](https://opendatascience.slack.com/), channel #mlcourse_ai, pinned thread __#a8_q6__*\n",
    "\n",
    "**<font color=\"red\">Answer options:</font>**\n",
    "1. $\\large \\frac{\\partial}{\\partial w_{ki}} \\lambda R\\left(W\\right) = \\lambda \\left(\\gamma w_{ki} + \\left(1 - \\gamma\\right) \\text{sign}\\left(w_{ki}\\right)\\right)$\n",
    "2. $\\large \\frac{\\partial}{\\partial w_{ki}} \\lambda R\\left(W\\right) = \\lambda \\left(2 \\gamma w_{ki} + \\left(1 - \\gamma\\right) w_{ki}\\right)$ \n",
    "3. $\\large \\frac{\\partial}{\\partial w_{ki}} \\lambda R\\left(W\\right) = \\lambda \\left(2 \\gamma w_{ki} + \\left(1 - \\gamma\\right) \\text{sign}\\left(w_{ki}\\right)\\right)$\n",
    "4. $\\large \\frac{\\partial}{\\partial w_{ki}} \\lambda R\\left(W\\right) = \\lambda \\left(2 \\gamma \\left|w_{ki}\\right| + \\left(1 - \\gamma\\right) \\text{sign}\\left(w_{ki}\\right)\\right)$"
   ]
  },
  {
   "cell_type": "markdown",
   "metadata": {},
   "source": [
    "## 7. ElasticNet regularization, implementation\n",
    "\n",
    "In the seventh task you are supposed to change the class `LogRegressor` so that the` fit_dataframe` method takes two parameters with default values `l2_reg = 0.001` and `l1_reg = 0.1`. Do one pass through the dataset with ElasticNet regularization and default parameter values and answer the question."
   ]
  },
  {
   "cell_type": "markdown",
   "metadata": {},
   "source": [
    "<font color=\"red\">Modified class:</font>"
   ]
  },
  {
   "cell_type": "code",
   "execution_count": null,
   "metadata": {
    "ExecuteTime": {
     "end_time": "2018-11-12T21:39:10.815508Z",
     "start_time": "2018-11-12T21:39:10.797514Z"
    },
    "code_folding": []
   },
   "outputs": [],
   "source": [
    "class LogRegressor():\n",
    "    def __init__(self, tags): \n",
    "        self.__version__ = 'v0.9'\n",
    "        self._tags = set(tags)\n",
    "        self._vocab = {}\n",
    "        self._w = dict([(t, defaultdict(int)) for t in tags])\n",
    "        self._b = dict([(t, 0) for t in tags])\n",
    "        self._word_stats = defaultdict(int)\n",
    "    \n",
    "    # HERE'S YOUR CODE"
   ]
  },
  {
   "cell_type": "code",
   "execution_count": null,
   "metadata": {
    "ExecuteTime": {
     "end_time": "2018-11-12T21:45:33.329289Z",
     "start_time": "2018-11-12T21:39:11.641795Z"
    }
   },
   "outputs": [],
   "source": [
    "%%time\n",
    "model = LogRegressor(tags=top_tags)\n",
    "metrics = model.fit_dataframe(df)"
   ]
  },
  {
   "cell_type": "code",
   "execution_count": null,
   "metadata": {
    "ExecuteTime": {
     "end_time": "2018-11-12T21:45:33.498137Z",
     "start_time": "2018-11-12T21:45:33.331289Z"
    }
   },
   "outputs": [],
   "source": [
    "# HERE'S YOUR CODE\n",
    "# accuracy = ...\n",
    "plot = plt.plot(pd.Series(metrics['loss'][:-10000]).rolling(10000).mean())"
   ]
  },
  {
   "cell_type": "markdown",
   "metadata": {
    "collapsed": true
   },
   "source": [
    "**<font color=\"red\">Question 7:</font> What's the average value of Jaccard accuracy in case of ElasticNet regularization?**\n",
    "\n",
    "*For discussions, please stick to [ODS Slack](https://opendatascience.slack.com/), channel #mlcourse_ai, pinned thread __#a8_q7__*\n",
    "\n",
    "**<font color=\"red\">Answer options:</font>**\n",
    "1. 0.51\n",
    "2. 0.61\n",
    "3. 0.71\n",
    "4. 0.81"
   ]
  },
  {
   "cell_type": "markdown",
   "metadata": {},
   "source": [
    "## 8. The most important words for a tag\n",
    "\n",
    "The beauty of linear models is that they are somewhat interpretable. You are supposed to calculate which words contribute the most to the probability of each of the tags. And then answer the question."
   ]
  },
  {
   "cell_type": "code",
   "execution_count": null,
   "metadata": {
    "ExecuteTime": {
     "end_time": "2018-11-12T21:45:36.839055Z",
     "start_time": "2018-11-12T21:45:33.501141Z"
    }
   },
   "outputs": [],
   "source": [
    "model._vocab_inv = dict([(v, k) for (k, v) in model._vocab.items()])\n",
    "top = 5\n",
    "for tag in model._tags:\n",
    "    # HERE'S YOUR CODE\n",
    "    # top5_words = ...\n",
    "    print(tag, ':', ', '.join(top5_words))    "
   ]
  },
  {
   "cell_type": "markdown",
   "metadata": {},
   "source": [
    "For many tags, the presence of the tag itself in the sentence is an important signal, and for many, the tag itself is the strongest signal, which is not surprising. \n",
    "\n",
    "**<font color=\"red\">Question 8:</font> For which of the tags the tag name itself is not included in the top 5 most important words?**\n",
    "\n",
    "*For discussions, please stick to [ODS Slack](https://opendatascience.slack.com/), channel #mlcourse_ai, pinned thread __#a8_q8__*\n",
    "\n",
    "**<font color=\"red\">Answer options:</font>**\n",
    "1. android\n",
    "2. javascript\n",
    "3. jquery\n",
    "4. c#"
   ]
  },
  {
   "cell_type": "markdown",
   "metadata": {
    "collapsed": true
   },
   "source": [
    "## 9. Reducing the size of the dictionary\n",
    "\n",
    "Now the number of words in the dictionary is too big. If it was a sample of 10 million questions from the StackOverflow website, then the dictionary size would've been ~ 10 million as well. You can regularize the model not only mathematically, but also simply limiting the size of the dictionary. You are supposed to make the following changes in the class `LogRegressor`:\n",
    "- add `self._word_stats = defaultdict(int)` to `__init__` to calculate word frequencies\n",
    "- add one more argument to the `fit_dataframe` method with the default value `freeze_vocab = False`\n",
    "- when `freeze_vocab = False` allow to add words to the dictionary and word_stats\n",
    "- when `freeze_vocab = True` ignore words not from the dictionary and don't update word_stats\n",
    "- add the class method `filter_vocab (n = 10000)`, which will leave only top-n most popular words in the dictionary\n",
    "\n",
    "For first `fit_dataframe` call use `learning_rate=0.2`."
   ]
  },
  {
   "cell_type": "markdown",
   "metadata": {},
   "source": [
    "<font color=\"red\">Modified class:</font>"
   ]
  },
  {
   "cell_type": "code",
   "execution_count": null,
   "metadata": {
    "ExecuteTime": {
     "end_time": "2018-11-12T21:45:36.879043Z",
     "start_time": "2018-11-12T21:45:36.844053Z"
    }
   },
   "outputs": [],
   "source": [
    "class LogRegressor():\n",
    "    def __init__(self, tags): \n",
    "        self.__version__ = 'v0.9'\n",
    "        self._tags = set(tags)\n",
    "        self._vocab = {}\n",
    "        self._w = dict([(t, defaultdict(int)) for t in tags])\n",
    "        self._b = dict([(t, 0) for t in tags])\n",
    "        self._word_stats = defaultdict(int)\n",
    "    \n",
    "    # HERE'S YOUR CODE"
   ]
  },
  {
   "cell_type": "code",
   "execution_count": null,
   "metadata": {
    "ExecuteTime": {
     "end_time": "2018-11-12T21:52:34.210452Z",
     "start_time": "2018-11-12T21:45:36.881041Z"
    }
   },
   "outputs": [],
   "source": [
    "%%time\n",
    "model = LogRegressor(tags=top_tags)\n",
    "# HERE'S YOUR CODE\n",
    "# metrics = model.fit_dataframe(df, ...\n",
    "# HERE'S YOUR CODE\n",
    "# accuracy = ...\n",
    "print('Mean Jaccard accuracy: {:.2f}'.format(accuracy))\n",
    "plot = plt.plot(pd.Series(metrics['loss'][:-10000]).rolling(10000).mean())"
   ]
  },
  {
   "cell_type": "markdown",
   "metadata": {},
   "source": [
    "We leave only 10 000 words."
   ]
  },
  {
   "cell_type": "code",
   "execution_count": null,
   "metadata": {
    "ExecuteTime": {
     "end_time": "2018-11-12T21:52:35.099786Z",
     "start_time": "2018-11-12T21:52:34.211441Z"
    }
   },
   "outputs": [],
   "source": [
    "model.filter_vocab(top_n=10000)"
   ]
  },
  {
   "cell_type": "markdown",
   "metadata": {},
   "source": [
    "Do one more iteration through the dataset, reducing learning rate 20 times and L2-regularization 5 times with freezed vocab:"
   ]
  },
  {
   "cell_type": "code",
   "execution_count": null,
   "metadata": {
    "ExecuteTime": {
     "end_time": "2018-11-12T21:58:00.298402Z",
     "start_time": "2018-11-12T21:52:35.100786Z"
    }
   },
   "outputs": [],
   "source": [
    "%%time\n",
    "# HERE'S YOUR CODE\n",
    "# metrics = model.fit_dataframe(df, ...\n",
    "# HERE'S YOUR CODE\n",
    "# accuracy = ...\n",
    "print('Mean Jaccard accuracy: {:.2f}'.format(accuracy))\n",
    "plot = plt.plot(pd.Series(metrics['loss'][:-10000]).rolling(10000).mean())"
   ]
  },
  {
   "cell_type": "markdown",
   "metadata": {
    "collapsed": true
   },
   "source": [
    "**<font color=\"red\">Question 9:</font> What's the average value of Jaccard accuracy in case of reducing the dictionary size?**\n",
    "\n",
    "*For discussions, please stick to [ODS Slack](https://opendatascience.slack.com/), channel #mlcourse_ai, pinned thread __#a8_q9__*\n",
    "\n",
    "**<font color=\"red\">Answer options:</font>**\n",
    "1. 0.66\n",
    "2. 0.69\n",
    "3. 0.72 \n",
    "4. 0.75"
   ]
  },
  {
   "cell_type": "markdown",
   "metadata": {},
   "source": [
    "## 10. Predicting tags for new questions\n",
    "\n",
    "At the end of this assignment, you are supposed to implement the method `predict_proba`, which takes a model and a string containing the question and returns a list of predicted question tags with their probabilities."
   ]
  },
  {
   "cell_type": "code",
   "execution_count": null,
   "metadata": {
    "ExecuteTime": {
     "end_time": "2018-11-12T21:58:40.677323Z",
     "start_time": "2018-11-12T21:58:40.671312Z"
    }
   },
   "outputs": [],
   "source": [
    "def predict_proba(model, sentence):\n",
    "    p = {}\n",
    "    # HERE'S YOUR CODE\n",
    "    return p"
   ]
  },
  {
   "cell_type": "code",
   "execution_count": null,
   "metadata": {
    "ExecuteTime": {
     "end_time": "2018-11-12T21:58:41.226458Z",
     "start_time": "2018-11-12T21:58:41.223459Z"
    }
   },
   "outputs": [],
   "source": [
    "sentence = (\"I want to improve my coding skills, so I have planned write \" +\n",
    "            \"a Mobile Application.need to choose between Apple's iOS or Google's Android.\" +\n",
    "            \" my background: I have done basic programming in .Net,C/C++,Python and PHP \" +\n",
    "            \"in college, so got OOP concepts covered. about my skill level, I just know \" +\n",
    "            \"concepts and basic syntax. But can't write complex applications, if asked :(\" +\n",
    "            \" So decided to hone my skills, And I wanted to know which is easier to \" +\n",
    "            \"learn for a programming n00b. A) iOS which uses Objective C B) Android \" + \n",
    "            \"which uses Java. I want to decide based on difficulty level\")"
   ]
  },
  {
   "cell_type": "markdown",
   "metadata": {},
   "source": [
    "Preprocessing of the question (sentence) will only include converting it to lower case and deleting commas."
   ]
  },
  {
   "cell_type": "code",
   "execution_count": null,
   "metadata": {
    "ExecuteTime": {
     "end_time": "2018-11-12T21:58:42.315626Z",
     "start_time": "2018-11-12T21:58:42.311628Z"
    }
   },
   "outputs": [],
   "source": [
    "pred = predict_proba(model, sentence.lower().replace(',', ''))"
   ]
  },
  {
   "cell_type": "code",
   "execution_count": null,
   "metadata": {
    "ExecuteTime": {
     "end_time": "2018-11-12T21:58:42.963020Z",
     "start_time": "2018-11-12T21:58:42.960009Z"
    }
   },
   "outputs": [],
   "source": [
    "tag_preds = sorted(pred.items(), key=lambda t: t[1], reverse=True)"
   ]
  },
  {
   "cell_type": "code",
   "execution_count": null,
   "metadata": {
    "ExecuteTime": {
     "end_time": "2018-11-12T21:58:43.381228Z",
     "start_time": "2018-11-12T21:58:43.376229Z"
    }
   },
   "outputs": [],
   "source": [
    "list(filter(lambda t: t[1] > 0.9, tag_preds))"
   ]
  },
  {
   "cell_type": "markdown",
   "metadata": {},
   "source": [
    "**<font color=\"red\">Question 10:</font> Which tag or tags are associated with this question if the acceptance threshold is $ 0.9 $?**\n",
    "\n",
    "*For discussions, please stick to [ODS Slack](https://opendatascience.slack.com/), channel #mlcourse_ai, pinned thread __#a8_q10__*\n",
    "\n",
    "**<font color=\"red\">Answer options:</font>**\n",
    "1. ios\n",
    "2. android\n",
    "3. c#, c++\n",
    "4. ios, php"
   ]
  },
  {
   "cell_type": "markdown",
   "metadata": {},
   "source": [
    "PS: in the original question the following four tags are put: java, android, objective-c, ios."
   ]
  }
 ],
 "metadata": {
  "kernelspec": {
   "display_name": "Python 3",
   "language": "python",
   "name": "python3"
  },
  "language_info": {
   "codemirror_mode": {
    "name": "ipython",
    "version": 3
   },
   "file_extension": ".py",
   "mimetype": "text/x-python",
   "name": "python",
   "nbconvert_exporter": "python",
   "pygments_lexer": "ipython3",
   "version": "3.6.6"
  }
 },
 "nbformat": 4,
 "nbformat_minor": 2
}
